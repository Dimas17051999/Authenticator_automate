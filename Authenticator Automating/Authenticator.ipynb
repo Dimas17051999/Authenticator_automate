{
 "cells": [
  {
   "cell_type": "code",
   "execution_count": 5,
   "metadata": {},
   "outputs": [],
   "source": [
    "import cv2    #pip install opencv-python\n",
    "import pyotp  #pip install pyotp"
   ]
  },
  {
   "cell_type": "code",
   "execution_count": 7,
   "metadata": {},
   "outputs": [],
   "source": [
    "filename = 'QRcode.png'"
   ]
  },
  {
   "cell_type": "code",
   "execution_count": 12,
   "metadata": {},
   "outputs": [],
   "source": [
    "img = cv2.imread(filename)\n",
    "detect = cv2.QRCodeDetector()\n",
    "value, points, straight_qrcode = detect.detectAndDecode(img)"
   ]
  },
  {
   "cell_type": "code",
   "execution_count": 13,
   "metadata": {},
   "outputs": [
    {
     "data": {
      "text/plain": [
       "('otpauth://totp/nielsen.okta.com%3ALUIS.DIMAS%40nielsen.com?secret=Y67OT7BAS5RVI3QL&issuer=nielsen.okta.com',\n",
       " array([[[ 13.,  15.],\n",
       "         [290.,  15.],\n",
       "         [290., 292.],\n",
       "         [ 13., 292.]]], dtype=float32),\n",
       " array([[  0,   0,   0, ...,   0,   0,   0],\n",
       "        [  0, 255, 255, ..., 255, 255,   0],\n",
       "        [  0, 255,   0, ...,   0, 255,   0],\n",
       "        ...,\n",
       "        [  0, 255,   0, ...,   0, 255, 255],\n",
       "        [  0, 255, 255, ...,   0, 255, 255],\n",
       "        [  0,   0,   0, ...,   0,   0,   0]], dtype=uint8))"
      ]
     },
     "execution_count": 13,
     "metadata": {},
     "output_type": "execute_result"
    }
   ],
   "source": [
    "value, points, straight_qrcode"
   ]
  },
  {
   "cell_type": "code",
   "execution_count": 14,
   "metadata": {},
   "outputs": [],
   "source": [
    "totp  = pyotp.parse_uri(value)"
   ]
  },
  {
   "cell_type": "code",
   "execution_count": 15,
   "metadata": {},
   "outputs": [
    {
     "data": {
      "text/plain": [
       "'199119'"
      ]
     },
     "execution_count": 15,
     "metadata": {},
     "output_type": "execute_result"
    }
   ],
   "source": [
    "totp.now()"
   ]
  },
  {
   "cell_type": "code",
   "execution_count": null,
   "metadata": {},
   "outputs": [],
   "source": []
  }
 ],
 "metadata": {
  "kernelspec": {
   "display_name": "Python 3 (ipykernel)",
   "language": "python",
   "name": "python3"
  },
  "language_info": {
   "codemirror_mode": {
    "name": "ipython",
    "version": 3
   },
   "file_extension": ".py",
   "mimetype": "text/x-python",
   "name": "python",
   "nbconvert_exporter": "python",
   "pygments_lexer": "ipython3",
   "version": "3.9.13"
  }
 },
 "nbformat": 4,
 "nbformat_minor": 2
}
